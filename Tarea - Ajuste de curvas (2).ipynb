{
 "cells": [
  {
   "cell_type": "markdown",
   "metadata": {},
   "source": [
    "# Tarea - Ajuste de curvas"
   ]
  },
  {
   "cell_type": "code",
   "execution_count": 2,
   "metadata": {},
   "outputs": [],
   "source": [
    "import numpy as np\n",
    "import pandas as pd\n",
    "import matplotlib.pyplot as plt"
   ]
  },
  {
   "cell_type": "markdown",
   "metadata": {},
   "source": [
    "---\n",
    "### Problema 1\n",
    "\n",
    "Los siguientes datos representan el costo en dólares de la electricidad según Western Electricity Coordinating Council desde el 2014 (y su pronóstico para el 2040)\n",
    "\n",
    "Tomado de:\n",
    "https://www.quandl.com/data/EIA/AEO_2016_REF_NO_CPP_PRCE_NA_COMM_NA_ELC_NA_WECCRKS_NCNTPKWH_A-Electricity-End-Use-Prices-Commercial-Western-Electricity-Coordinating-Council-Rockies-No-CPP-AEO2016"
   ]
  },
  {
   "cell_type": "code",
   "execution_count": 1,
   "metadata": {},
   "outputs": [],
   "source": [
    "import numpy as np\n",
    "# Datos extraidos de la página de quandl\n",
    "data = np.array([10.051101,  9.259127,  9.444813,  9.557723,  9.977324, 10.298326,\n",
    "       10.447217, 10.550506, 10.590784, 10.657418, 10.743085, 10.831965,\n",
    "       10.988435, 11.153055, 11.313326, 11.557165, 11.860136, 12.122511,\n",
    "       12.356448, 12.611391, 12.814569, 13.111372, 13.357134, 13.559012,\n",
    "       13.85861 , 14.135924, 14.436149])"
   ]
  },
  {
   "cell_type": "markdown",
   "metadata": {},
   "source": [
    "1. Ajuste estos datos a polinomios de grado 1 hasta 3 (los datos en $x$ corresponden a los años de 2014 a 2040, sin embargo son valores muy grandes para elevarlos a una potencia, use una representación para estos años, por ejemplo $2014 \\rightarrow 0$ y $2040\\rightarrow 26$).\n",
    "\n",
    "2. Muestre las tres curvas ajustadas junto a los datos de los costos en un solo gráfico"
   ]
  },
  {
   "cell_type": "code",
   "execution_count": 11,
   "metadata": {},
   "outputs": [],
   "source": [
    "import scipy.optimize as opt\n",
    "data=27\n",
    "x=np.linspace(0,26,27)\n",
    "y= np.array([10.051101,  9.259127,  9.444813,  9.557723,  9.977324, 10.298326,\n",
    "       10.447217, 10.550506, 10.590784, 10.657418, 10.743085, 10.831965,\n",
    "       10.988435, 11.153055, 11.313326, 11.557165, 11.860136, 12.122511,\n",
    "       12.356448, 12.611391, 12.814569, 13.111372, 13.357134, 13.559012,\n",
    "       13.85861 , 14.135924, 14.436149])"
   ]
  },
  {
   "cell_type": "code",
   "execution_count": 12,
   "metadata": {},
   "outputs": [],
   "source": [
    "def funcion_de_costo(beta,X, y):\n",
    "    m,n=X.shape\n",
    "    beta=np.reshape(beta,[n, -1])\n",
    "    \n",
    "    pred= X @ beta\n",
    "    costo= (y-pred).T @ (y-pred)\n",
    "    return costo[0][0]\n"
   ]
  },
  {
   "cell_type": "code",
   "execution_count": 13,
   "metadata": {},
   "outputs": [],
   "source": [
    "ones=np.ones((data,1))\n",
    "a=np.reshape(x,[data,-1])\n",
    "X=np.hstack((ones,a))\n",
    "y=np.reshape(y,[data,-1])\n",
    "\n",
    "beta=np.random.rand(2)"
   ]
  },
  {
   "cell_type": "code",
   "execution_count": 14,
   "metadata": {},
   "outputs": [
    {
     "data": {
      "text/plain": [
       "1022.5946412597664"
      ]
     },
     "execution_count": 14,
     "metadata": {},
     "output_type": "execute_result"
    }
   ],
   "source": [
    "funcion_de_costo(beta,X,y)"
   ]
  },
  {
   "cell_type": "code",
   "execution_count": 15,
   "metadata": {},
   "outputs": [
    {
     "data": {
      "text/plain": [
       "      fun: 2.3704889518153918\n",
       " hess_inv: array([[ 0.07010582, -0.00396825],\n",
       "       [-0.00396825,  0.00030525]])\n",
       "      jac: array([1.19209290e-07, 2.98023224e-08])\n",
       "  message: 'Optimization terminated successfully.'\n",
       "     nfev: 15\n",
       "      nit: 3\n",
       "     njev: 5\n",
       "   status: 0\n",
       "  success: True\n",
       "        x: array([9.11567634, 0.18667055])"
      ]
     },
     "execution_count": 15,
     "metadata": {},
     "output_type": "execute_result"
    }
   ],
   "source": [
    "sol= opt.minimize(funcion_de_costo,beta,args=(X,y))\n",
    "sol"
   ]
  },
  {
   "cell_type": "code",
   "execution_count": null,
   "metadata": {},
   "outputs": [],
   "source": []
  },
  {
   "cell_type": "markdown",
   "metadata": {},
   "source": [
    "___\n",
    "### Problema 2\n",
    "\n",
    "El archivo `population_data.csv` contiene información histórica anual de México relativa a la población, nacimientos y muertes desde el año 1950 hasta el año 2015. La primer columna corresponde a los años, la segunda a la población, la tercera a los nacimientos y la última a los decesos.\n",
    "\n",
    "Tomado de: https://en.wikipedia.org/wiki/Demographics_of_Mexico.\n",
    "\n",
    "Importe estos datos usando la función `read_csv` del paquete `pandas`\n",
    "\n",
    "1. Usando los años como variable independiente $x$ y la población como variable dependiente $y$, ajustar polinomios de grado 1 hasta grado 3.\n",
    "\n",
    "    * Mostrar en un solo gráfico los datos de población contra los años, y los polinomios ajustados.\n",
    "\n",
    "    * Graficar el error cuadrático acumulado contra el número de términos.\n",
    "\n",
    "2. Repetir el punto 1 usando los nacimientos como variable dependiente $y$. Grafique las curvas ajustadas junto con los datos de nacimientos. Vea en un gráfico el error acumulado."
   ]
  },
  {
   "cell_type": "markdown",
   "metadata": {},
   "source": [
    "---"
   ]
  },
  {
   "cell_type": "code",
   "execution_count": 19,
   "metadata": {},
   "outputs": [
    {
     "data": {
      "text/html": [
       "<div>\n",
       "<style scoped>\n",
       "    .dataframe tbody tr th:only-of-type {\n",
       "        vertical-align: middle;\n",
       "    }\n",
       "\n",
       "    .dataframe tbody tr th {\n",
       "        vertical-align: top;\n",
       "    }\n",
       "\n",
       "    .dataframe thead th {\n",
       "        text-align: right;\n",
       "    }\n",
       "</style>\n",
       "<table border=\"1\" class=\"dataframe\">\n",
       "  <thead>\n",
       "    <tr style=\"text-align: right;\">\n",
       "      <th></th>\n",
       "      <th>Year</th>\n",
       "      <th>Poblacion</th>\n",
       "      <th>Nacimientos</th>\n",
       "      <th>Decesos</th>\n",
       "    </tr>\n",
       "  </thead>\n",
       "  <tbody>\n",
       "    <tr>\n",
       "      <th>0</th>\n",
       "      <td>1950</td>\n",
       "      <td>28296</td>\n",
       "      <td>1174947</td>\n",
       "      <td>418430</td>\n",
       "    </tr>\n",
       "    <tr>\n",
       "      <th>1</th>\n",
       "      <td>1951</td>\n",
       "      <td>29110</td>\n",
       "      <td>1183788</td>\n",
       "      <td>458238</td>\n",
       "    </tr>\n",
       "    <tr>\n",
       "      <th>2</th>\n",
       "      <td>1952</td>\n",
       "      <td>29980</td>\n",
       "      <td>1195209</td>\n",
       "      <td>408823</td>\n",
       "    </tr>\n",
       "    <tr>\n",
       "      <th>3</th>\n",
       "      <td>1953</td>\n",
       "      <td>30904</td>\n",
       "      <td>1261775</td>\n",
       "      <td>446127</td>\n",
       "    </tr>\n",
       "    <tr>\n",
       "      <th>4</th>\n",
       "      <td>1954</td>\n",
       "      <td>31880</td>\n",
       "      <td>1339837</td>\n",
       "      <td>378752</td>\n",
       "    </tr>\n",
       "    <tr>\n",
       "      <th>...</th>\n",
       "      <td>...</td>\n",
       "      <td>...</td>\n",
       "      <td>...</td>\n",
       "      <td>...</td>\n",
       "    </tr>\n",
       "    <tr>\n",
       "      <th>61</th>\n",
       "      <td>2011</td>\n",
       "      <td>115683</td>\n",
       "      <td>2586287</td>\n",
       "      <td>590693</td>\n",
       "    </tr>\n",
       "    <tr>\n",
       "      <th>62</th>\n",
       "      <td>2012</td>\n",
       "      <td>117054</td>\n",
       "      <td>2498880</td>\n",
       "      <td>602354</td>\n",
       "    </tr>\n",
       "    <tr>\n",
       "      <th>63</th>\n",
       "      <td>2013</td>\n",
       "      <td>118395</td>\n",
       "      <td>2478889</td>\n",
       "      <td>623599</td>\n",
       "    </tr>\n",
       "    <tr>\n",
       "      <th>64</th>\n",
       "      <td>2014</td>\n",
       "      <td>119713</td>\n",
       "      <td>2463420</td>\n",
       "      <td>633641</td>\n",
       "    </tr>\n",
       "    <tr>\n",
       "      <th>65</th>\n",
       "      <td>2015</td>\n",
       "      <td>121005</td>\n",
       "      <td>2353596</td>\n",
       "      <td>655694</td>\n",
       "    </tr>\n",
       "  </tbody>\n",
       "</table>\n",
       "<p>66 rows × 4 columns</p>\n",
       "</div>"
      ],
      "text/plain": [
       "    Year  Poblacion  Nacimientos  Decesos\n",
       "0   1950      28296      1174947   418430\n",
       "1   1951      29110      1183788   458238\n",
       "2   1952      29980      1195209   408823\n",
       "3   1953      30904      1261775   446127\n",
       "4   1954      31880      1339837   378752\n",
       "..   ...        ...          ...      ...\n",
       "61  2011     115683      2586287   590693\n",
       "62  2012     117054      2498880   602354\n",
       "63  2013     118395      2478889   623599\n",
       "64  2014     119713      2463420   633641\n",
       "65  2015     121005      2353596   655694\n",
       "\n",
       "[66 rows x 4 columns]"
      ]
     },
     "execution_count": 19,
     "metadata": {},
     "output_type": "execute_result"
    }
   ],
   "source": [
    "import pandas as pd\n",
    "data=pd.read_csv(\"pop.csv\")\n",
    "data"
   ]
  },
  {
   "cell_type": "code",
   "execution_count": 20,
   "metadata": {},
   "outputs": [],
   "source": [
    "def funcion_de_costo(beta,X, y):\n",
    "    m,n=X.shape\n",
    "    beta=np.reshape(beta,[n, -1])\n",
    "    \n",
    "    pred= X @ beta\n",
    "    costo= (y-pred).T @ (y-pred)\n",
    "    return costo[0][0]"
   ]
  },
  {
   "cell_type": "code",
   "execution_count": 21,
   "metadata": {},
   "outputs": [],
   "source": [
    "x=data"
   ]
  },
  {
   "cell_type": "code",
   "execution_count": 22,
   "metadata": {},
   "outputs": [
    {
     "ename": "ValueError",
     "evalue": "negative dimensions are not allowed",
     "output_type": "error",
     "traceback": [
      "\u001b[1;31m---------------------------------------------------------------------------\u001b[0m",
      "\u001b[1;31mValueError\u001b[0m                                Traceback (most recent call last)",
      "Input \u001b[1;32mIn [22]\u001b[0m, in \u001b[0;36m<cell line: 2>\u001b[1;34m()\u001b[0m\n\u001b[0;32m      1\u001b[0m m\u001b[38;5;241m=\u001b[39m \u001b[38;5;28mlen\u001b[39m(y)\n\u001b[1;32m----> 2\u001b[0m ones\u001b[38;5;241m=\u001b[39m\u001b[43mnp\u001b[49m\u001b[38;5;241;43m.\u001b[39;49m\u001b[43mones\u001b[49m\u001b[43m(\u001b[49m\u001b[43m[\u001b[49m\u001b[43mm\u001b[49m\u001b[43m,\u001b[49m\u001b[38;5;241;43m-\u001b[39;49m\u001b[38;5;241;43m1\u001b[39;49m\u001b[43m]\u001b[49m\u001b[43m)\u001b[49m\n\u001b[0;32m      3\u001b[0m x\u001b[38;5;241m=\u001b[39mnp\u001b[38;5;241m.\u001b[39mreshape(\u001b[38;5;28mlist\u001b[39m(x),[m,\u001b[38;5;241m-\u001b[39m\u001b[38;5;241m1\u001b[39m])\n\u001b[0;32m      4\u001b[0m X\u001b[38;5;241m=\u001b[39mnp\u001b[38;5;241m.\u001b[39mhstack((ones,x))\n",
      "File \u001b[1;32m~\\anaconda1\\lib\\site-packages\\numpy\\core\\numeric.py:204\u001b[0m, in \u001b[0;36mones\u001b[1;34m(shape, dtype, order, like)\u001b[0m\n\u001b[0;32m    201\u001b[0m \u001b[38;5;28;01mif\u001b[39;00m like \u001b[38;5;129;01mis\u001b[39;00m \u001b[38;5;129;01mnot\u001b[39;00m \u001b[38;5;28;01mNone\u001b[39;00m:\n\u001b[0;32m    202\u001b[0m     \u001b[38;5;28;01mreturn\u001b[39;00m _ones_with_like(shape, dtype\u001b[38;5;241m=\u001b[39mdtype, order\u001b[38;5;241m=\u001b[39morder, like\u001b[38;5;241m=\u001b[39mlike)\n\u001b[1;32m--> 204\u001b[0m a \u001b[38;5;241m=\u001b[39m \u001b[43mempty\u001b[49m\u001b[43m(\u001b[49m\u001b[43mshape\u001b[49m\u001b[43m,\u001b[49m\u001b[43m \u001b[49m\u001b[43mdtype\u001b[49m\u001b[43m,\u001b[49m\u001b[43m \u001b[49m\u001b[43morder\u001b[49m\u001b[43m)\u001b[49m\n\u001b[0;32m    205\u001b[0m multiarray\u001b[38;5;241m.\u001b[39mcopyto(a, \u001b[38;5;241m1\u001b[39m, casting\u001b[38;5;241m=\u001b[39m\u001b[38;5;124m'\u001b[39m\u001b[38;5;124munsafe\u001b[39m\u001b[38;5;124m'\u001b[39m)\n\u001b[0;32m    206\u001b[0m \u001b[38;5;28;01mreturn\u001b[39;00m a\n",
      "\u001b[1;31mValueError\u001b[0m: negative dimensions are not allowed"
     ]
    }
   ],
   "source": [
    "m= len(y)\n",
    "ones=np.ones([m,-1])\n",
    "x=np.reshape(list(x),[m,-1])\n",
    "X=np.hstack((ones,x))\n",
    "\n",
    "beta_inicial=np.random.rand(2)\n",
    "y=np.reshape(list(y),[m,-1])"
   ]
  },
  {
   "cell_type": "code",
   "execution_count": null,
   "metadata": {},
   "outputs": [],
   "source": []
  }
 ],
 "metadata": {
  "kernelspec": {
   "display_name": "Python 3 (ipykernel)",
   "language": "python",
   "name": "python3"
  },
  "language_info": {
   "codemirror_mode": {
    "name": "ipython",
    "version": 3
   },
   "file_extension": ".py",
   "mimetype": "text/x-python",
   "name": "python",
   "nbconvert_exporter": "python",
   "pygments_lexer": "ipython3",
   "version": "3.9.12"
  }
 },
 "nbformat": 4,
 "nbformat_minor": 2
}
