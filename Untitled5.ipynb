{
 "cells": [
  {
   "cell_type": "markdown",
   "id": "38ce9071",
   "metadata": {},
   "source": [
    "### Problema del Proyecto\n",
    "##### Constructora\n",
    "\n",
    "<img style=\"float: right; margin: 0px 0px 15px 15px;\" src=\"https://pbs.twimg.com/media/Cksu73NUYAA6rW9.jpg\" width=\"300px\" height=\"100px\" />\n",
    "\n",
    "\n",
    "La Empresa **(ECOM)** **Ecología en Combustion** vende un limpiador para inyectores por 27 dolares y utiliza 10 dolares en materias primas. Cada limpiador de inyectores que se fabrica, aumenta la mano de obra y los costos generales a 14 dolares.\n",
    "\n",
    "La Empresa **(ECOM)** **Ecología en Combustion** también vende un desengrasante para motores por 21 dolares y utiliza 9 dolares en materias primas. Cada desengrasante para motores que se fabrica, aumenta la mano de obra y los costos generales a 10\n",
    "dolares.\n",
    "\n",
    "La fabricación de ambos productos requiere dos tipos de mano de obra especializada; enlatado y etiquetado. El limpiador de inyectores requiere de 2 minutos de trabajo de enlatado y un minuto de etiquetado. El desengrasante para motores requiere de un minuto de trabajo de enlatado y un minuto de etiquetado.\n",
    "\n",
    "Cada dia **(ECOM)** puede obtener toda la materia prima necesaria, pero solo 1000 minutos de enlatado y 800 de etiquetado. La demanda de inyectores es ilimitada, pero como al dia se venden un maximo de 400 desengrasantes, **(ECOM)** quiere maximizar las ganancias diarias.\n",
    "\n",
    "**FUNCION**\n",
    "x=Limpiador para Inyectores\n",
    "y=Desengrasante para motores\n",
    "\n",
    "$ 3x+2y$ \n",
    "\n",
    "\n",
    "**RESTRICCIÓNES**\n",
    "\n",
    "$x+y≤800$\n",
    "\n",
    "$2x+y≤1000$\n",
    "\n",
    "$x≤400$\n",
    "\n",
    "\n",
    "\n",
    "\n",
    "\n",
    "\n",
    "<img style=\"float: centre; margin: 0px 0px 15px 15px;\" src=\"https://www.monay.com.mx/images/ecom-aerosoles.jpg?crc=3847670937\" width=\"600px\" height=\"200px\" />"
   ]
  },
  {
   "cell_type": "code",
   "execution_count": 7,
   "id": "06683690",
   "metadata": {},
   "outputs": [],
   "source": [
    "import scipy.optimize as opt"
   ]
  },
  {
   "cell_type": "code",
   "execution_count": 8,
   "id": "ed0fcf60",
   "metadata": {},
   "outputs": [],
   "source": [
    "import numpy as np\n"
   ]
  },
  {
   "cell_type": "code",
   "execution_count": 24,
   "id": "cc9cb470",
   "metadata": {},
   "outputs": [
    {
     "data": {
      "text/plain": [
       "     con: array([], dtype=float64)\n",
       "     fun: 0.0\n",
       " message: 'The solution was determined in presolve as there are no non-trivial constraints.'\n",
       "     nit: 0\n",
       "   slack: array([27., 14., 21., 10.])\n",
       "  status: 0\n",
       " success: True\n",
       "       x: array([0., 0.])"
      ]
     },
     "execution_count": 24,
     "metadata": {},
     "output_type": "execute_result"
    }
   ],
   "source": [
    "b=np.array([27,\n",
    "            14,\n",
    "            21,\n",
    "            10,\n",
    "])\n",
    "\n",
    "A=np.array([\n",
    "    [0,0],\n",
    "    [0,1],\n",
    "    [1,0],\n",
    "    [0,0],\n",
    "])\n",
    "\n",
    "\n",
    "c= np.array([3,\n",
    "              2,\n",
    "])\n",
    "\n",
    "opt.linprog(c,A,b,method= \"simplex\")"
   ]
  },
  {
   "cell_type": "code",
   "execution_count": null,
   "id": "38f63dc6",
   "metadata": {},
   "outputs": [],
   "source": []
  },
  {
   "cell_type": "markdown",
   "id": "4f865901",
   "metadata": {},
   "source": [
    "- Criterio a optimizar: Maximizar ganancias (max)\n",
    "- Información pertinente al criterio de optimización: La ganancia por limpiador de inyectores es 27 dolares y por desengrasante son 21 dolares. Pero tiene costos de producción, por lo que se tendrían las siguientes ganancias netas \n",
    "Variables de optimización\n",
    "- $x$ Limipiador de iyectores\n",
    "- $y$ Desengrasante\n",
    "\n",
    "- Restricciones respecto a las variables\n",
    "$ "
   ]
  },
  {
   "cell_type": "code",
   "execution_count": null,
   "id": "5be6bb2d",
   "metadata": {},
   "outputs": [],
   "source": [
    "c = np.array([-27, \n",
    "              -21])"
   ]
  },
  {
   "cell_type": "code",
   "execution_count": null,
   "id": "c10a6841",
   "metadata": {},
   "outputs": [],
   "source": []
  },
  {
   "cell_type": "code",
   "execution_count": null,
   "id": "003c3f15",
   "metadata": {},
   "outputs": [],
   "source": []
  },
  {
   "cell_type": "code",
   "execution_count": null,
   "id": "04529220",
   "metadata": {},
   "outputs": [],
   "source": []
  },
  {
   "cell_type": "code",
   "execution_count": null,
   "id": "4f238e06",
   "metadata": {},
   "outputs": [],
   "source": []
  },
  {
   "cell_type": "code",
   "execution_count": null,
   "id": "c6240d3f",
   "metadata": {},
   "outputs": [],
   "source": []
  },
  {
   "cell_type": "code",
   "execution_count": null,
   "id": "3ae710b0",
   "metadata": {},
   "outputs": [],
   "source": []
  },
  {
   "cell_type": "code",
   "execution_count": null,
   "id": "baa3afaa",
   "metadata": {},
   "outputs": [],
   "source": []
  }
 ],
 "metadata": {
  "kernelspec": {
   "display_name": "Python 3 (ipykernel)",
   "language": "python",
   "name": "python3"
  },
  "language_info": {
   "codemirror_mode": {
    "name": "ipython",
    "version": 3
   },
   "file_extension": ".py",
   "mimetype": "text/x-python",
   "name": "python",
   "nbconvert_exporter": "python",
   "pygments_lexer": "ipython3",
   "version": "3.9.12"
  }
 },
 "nbformat": 4,
 "nbformat_minor": 5
}
