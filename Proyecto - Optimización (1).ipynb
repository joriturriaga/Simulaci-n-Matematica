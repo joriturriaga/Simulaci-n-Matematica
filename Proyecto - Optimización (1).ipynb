{
 "cells": [
  {
   "cell_type": "markdown",
   "metadata": {},
   "source": [
    "<img style=\"float: right; margin: 0px 0px 15px 15px;\" src=\"https://upload.wikimedia.org/wikipedia/commons/b/b6/Proyecto_en_construccion.jpg\" width=\"300px\" height=\"100px\" />\n",
    "\n",
    "\n",
    "# Guía para presentación de proyectos.\n",
    "> Se especifican los componentes básicos que deberá tener cada proyecto. El proyecto debe ser un problema que se pueda modelar con las herramientas vistas en el módulo. En el caso del primer módulo, optimización."
   ]
  },
  {
   "cell_type": "markdown",
   "metadata": {},
   "source": [
    "## 1. PROYECTO MÓDULO 1\n",
    "\n",
    " 1. Elegir integrantes para proyecto (3). **Jorge Iturriaga, Manuel Escalante, Adrian Lopez.**\n",
    " 2. Deben elegir un tema para proyecto que se pueda resolver como un problema de optimización (de preferencia relacionado con su carrera). **Optimizar la distribución de los productos de una Constructora.**\n",
    "\n",
    "## 1.1 Ideas de proyectos:\n",
    "1. Programación lineal: (con base en el libro Model building in mathematical programming de H. Paul Williams)\n",
    " + Planeación de mano de obra.\n",
    " + Planeación de producción.\n",
    " + Arbitraje usando programación lineal (Financiera) http://www.meiss.com/columbia/en/teaching/1999/fall/B6015/download/lecture05/lec5.pdf\n",
    " + Planta de tratamiento de aguas residuales de bajo costo (Ingeniería civil) Numerical Methods for Engineers pg 421\n",
    " + Problema de descubrir datos ocultos\n",
    " + Optimizar diseño de divisor de voltaje\n",
    "\n",
    "\n",
    "2. Ajuste de curvas (con base en los datos en https://data.worldbank.org/indicator)\n",
    " + Histórico de temperaturas hasta 2016: ajuste de curvas y predicción de temperaturas de 2017 (comparación con datos reales).\n",
    " + Por ejemplo, CO2 emissions (kt), Forest area (sq. km), están relacionados con cambio climático. En las emisiones de CO2 parece que en los últimos años la curva tiene tendencia de concavidad hacia abajo, lo que indicaría que las políticas que se estén ejecutando si están teniendo un impacto.\n",
    " + Otro ejemplo puede ser Access to electricity (% of population). Se ve que está en constante crecimiento. Se podría estimar cuándo se llegará al 95%."
   ]
  },
  {
   "cell_type": "markdown",
   "metadata": {},
   "source": [
    "___\n",
    "## 2. Entregable.\n",
    "Los trabajos deben tener los siguientes componentes básicos.\n",
    "\n",
    "### 2.1 Título del trabajo.\n",
    "> Debe describir el trabajo.\n",
    "\n",
    "### 2.2 Objetivos.\n",
    "> - Se refieren a los propósitos por los cuales se hace el trabajo.\n",
    "> - Deben ser concretos, evaluables y verificables.\n",
    "> - Deben ser escritos en infinitivo.\n",
    "> #### 1.1 Objetivo general.\n",
    ">  - Fin último de estudio. Se formula atendiendo el propósito global del trabajo. No presenta detalles.\n",
    ">  - Se orienta a la totalidad del trabajo. Tiene que ver con el título del trabajo.\n",
    "> #### 1.2 Objetivos específicos\n",
    ">  - De forma detallada describen cada una de los componentes del trabajo.\n",
    ">  - En conjunto garantizan la consecución del objetivo general.\n",
    "\n",
    "Referencia:\n",
    "- https://es.slideshare.net/rosbur/metodologia-objetivos-generales-y-especficos\n",
    "\n",
    "### 2.3 Modelo que representa el problema.\n",
    "> - Se debe incluir la función a optimizar y las restricciones (en caso de que existan).\n",
    "> - Deducción del modelo. Explicación detallada de las ecuaciones de acuerdo al problema que se quiera resolver o modelo que se quiera representar.\n",
    "> - ¿Qué situación representa el modelo? ¿Cuáles son las limitaciones fundamentales?\n",
    "> - Significado y valor de los parámetros (constantes que aparezcan en el modelo).\n",
    "\n",
    "### 2.4 Solución del problema de optimización.\n",
    "> - Se debe resolver el problema de optimización.\n",
    "> - ¿Condujo el algoritmo de optimización a una solución factible?\n",
    "\n",
    "### 2.5 Visualización de la solución del problema.\n",
    "> Se deben mostrar gráficas y/o tablas que ilustren de forma adecuada los resultados. No olviden etiquetar los ejes y si se tienen varias curvas en una sola gráfica también etiquetarlas (ojo: que las curvas se puedan diferenciar con colores y estilos de línea).\n",
    "\n",
    "### 2.6 Conclusiones.\n",
    "> Mucho cuidado, las conclusiones no son cualquier cosa. Se debe concluir respecto a los objetivos planteados de acuerdo a los resultados obtenidos.\n",
    "\n",
    "### 2.7 Referencias.\n",
    "> Citar (en formato APA) la bibliografía utilizada."
   ]
  },
  {
   "cell_type": "markdown",
   "metadata": {},
   "source": [
    "___\n",
    "## 3. Especificaciones adicionales.\n",
    "El proyecto debe estar disponible en ~~`GitHub`~~ con los integrantes como colaboradores.\n",
    "\n",
    "### 3.1 Notebook de jupyter. \n",
    "> Los anteriores numerales los deben desarrollar todos en un notebook de jupyter y llamarlo de la siguiente manera `ProyectoModulo1_ApellidoN1_ApellidoN2_ApellidoN3`, donde `ApellidoNi` hace referencia al apellido paterno y la inicial del primer nombre del integrante `i`.\n",
    "\n",
    "### 3.2 Presentación.\n",
    "> Recuerden que la nota del proyecto es mitad el trabajo, y mitad la presentación. Deben hacer una presentación en PowerPoint para presentar el trabajo en la clase del lunes **26 de septiembre**. La presentación, además de llevar todos los componentes básicos descritos en el entregable, debe llevar una tabla de contenido.\n",
    "> - **NO DEBE TENER CÓDIGO, PARA ESO ES EL INFORME EN EL NOTEBOOK**\n",
    "> - Presentación: 10 minutos.\n",
    "> - Seguir estas recomendaciones: https://es.slideshare.net/MeireComputacion/power-point-pautas-para-una-buen-trabajo"
   ]
  },
  {
   "cell_type": "markdown",
   "metadata": {},
   "source": [
    "### Problema del Proyecto\n",
    "##### Constructora\n",
    "\n",
    "La Constructora **(ECOM)** dispone de tres plantas distribuidoraas de mezcla para satisfacer la demanda diaria de tres clientes localizados en Las Vegas, California y Chicago.\n",
    "\n",
    "\n",
    "La mezcladora numero $1$ puede satisfacer $80$ toneladas de cemento al dia respectivamente.\n",
    "La mezcladora numero $2$ puede satisfacer $40$ toneladas de cemento al dia respectivamente. \n",
    "La mezcladora numero $3$ puede satisfacer $60$ toneladas de cemento al dia respectivamente.\n",
    "\n",
    "Sin embargo, el consumo de los clientes es el siguiente:\n",
    "* Las Vegas: $70$ toneladas de cemento al dia.\n",
    "* California: $40$ toneladas de cemento al dia.\n",
    "* Chicago: $70$ toneladas de cemento al dia.\n",
    "\n",
    "Los costos asociados al envío del material por cada tonelada entre cada mezcladora y cada cliente son los siguientes:\n",
    "\n",
    "| Mezcladoras | Las vegas | California | Chicago |\n",
    "|-------------|-----------|------------|---------|\n",
    "|Mezcladora 1            |5        |2        |7      |\n",
    "|Mezcladora 2            |3        |6        |6      |\n",
    "|Mezcladora 3            |6        |1        |2      |\n",
    "\n",
    "Y por último, las restricciones del problema van a estar dadas por las capacidades de oferta y demanda de cada mezcladora y cada cliente.\n",
    "\n",
    "Variables:\n",
    "Existen 9 variables debido a que cada mezcladora puede surtir a los diferentes clientes **(3x3)=9**\n",
    "+ $x_1$,$x_2$,$x_3$,$x_4$,$x_5$,$x_6$,$x_7$,$x_8$,$x_9$.\n",
    "\n",
    "El problema consiste en plantear con programación lineal una solucion que permita satisfacer las necesidades de todas las Plazas al mismo tiempo que minimice los costos asociados a la distribución y resolverlo con `linprog`. \n"
   ]
  },
  {
   "cell_type": "code",
   "execution_count": 2,
   "metadata": {},
   "outputs": [],
   "source": [
    "import scipy.optimize as opt"
   ]
  },
  {
   "cell_type": "code",
   "execution_count": 3,
   "metadata": {},
   "outputs": [],
   "source": [
    "import numpy as np"
   ]
  },
  {
   "cell_type": "code",
   "execution_count": 8,
   "metadata": {},
   "outputs": [
    {
     "data": {
      "text/plain": [
       "     con: array([], dtype=float64)\n",
       "     fun: 540.0\n",
       " message: 'Optimization terminated successfully.'\n",
       "     nit: 9\n",
       "   slack: array([0., 0., 0., 0., 0., 0.])\n",
       "  status: 0\n",
       " success: True\n",
       "       x: array([30., 40., 10., 40.,  0.,  0.,  0.,  0., 60.])"
      ]
     },
     "execution_count": 8,
     "metadata": {},
     "output_type": "execute_result"
    }
   ],
   "source": [
    "c=np.array([5,\n",
    "            2,\n",
    "            7,\n",
    "            3,\n",
    "            6,\n",
    "            6,\n",
    "            6,\n",
    "            1,\n",
    "            2\n",
    "])\n",
    "\n",
    "A=np.array([\n",
    "    [1, 1, 1, 0, 0, 0, 0, 0, 0],\n",
    "    [0, 0, 0, 1, 1, 1, 0, 0, 0],\n",
    "    [0, 0, 0, 0, 0, 0, 1, 1, 1],\n",
    "    [-1, 0, 0, -1, 0, 0, -1, 0, 0],\n",
    "    [0, -1, 0, 0, -1, 0, 0, -1, 0],\n",
    "    [0, 0, -1, 0, 0, -1, 0, 0, -1],\n",
    "])\n",
    "\n",
    "\n",
    "b = np.array([80,\n",
    "              40,\n",
    "              60,\n",
    "             -70,\n",
    "             -40,\n",
    "             -70,\n",
    "])\n",
    "\n",
    "opt.linprog(c,A,b,method= \"simplex\")"
   ]
  },
  {
   "cell_type": "code",
   "execution_count": null,
   "metadata": {},
   "outputs": [],
   "source": []
  },
  {
   "cell_type": "code",
   "execution_count": null,
   "metadata": {},
   "outputs": [],
   "source": []
  }
 ],
 "metadata": {
  "kernelspec": {
   "display_name": "Python 3 (ipykernel)",
   "language": "python",
   "name": "python3"
  },
  "language_info": {
   "codemirror_mode": {
    "name": "ipython",
    "version": 3
   },
   "file_extension": ".py",
   "mimetype": "text/x-python",
   "name": "python",
   "nbconvert_exporter": "python",
   "pygments_lexer": "ipython3",
   "version": "3.9.12"
  }
 },
 "nbformat": 4,
 "nbformat_minor": 2
}
