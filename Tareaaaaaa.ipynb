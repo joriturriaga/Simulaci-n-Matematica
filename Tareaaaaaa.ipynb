{
 "cells": [
  {
   "cell_type": "markdown",
   "id": "9fe16c15",
   "metadata": {},
   "source": [
    "#### 1. Simulación del movimiento browniano\n",
    "\n",
    "El movimiento browniano es el movimiento aleatorio que se observa en las partículas que se hallan en un medio fluido, como resultado de choques contra las moléculas de dicho fluido [(referencia)].\n",
    "\n",
    "[(referencia)]: https://es.wikipedia.org/wiki/Movimiento_browniano\n",
    "\n",
    "Para simular el movimiento, en lugar de usar las ecuaciones integro-diferenciales que describe Einstein, use una caminta aleatoria para los tres ejes $x$, $y$, $z$ de la siguiente forma\n",
    "$$\n",
    "W_i=W_{i-1}+X_i\\sqrt{\\Delta t}\n",
    "$$\n",
    "donde, $\\Delta t$ es un intervalo de tiempo y \n",
    "$$\n",
    "X_i=\\left\\{\\begin{array}{l}\n",
    "1\\\\\n",
    "-1\n",
    "\\end{array}\\right.,\n",
    "$$\n",
    "se escoge de forma aleatoria con la misma probabilidad.\n",
    "\n",
    "Simule $10$ segundos con un $\\Delta t=0.001$ y represéntelo en un gráfico 3D (Puede ver el archivo de Ejemplo 3D)."
   ]
  },
  {
   "cell_type": "code",
   "execution_count": 1,
   "id": "980614cc",
   "metadata": {},
   "outputs": [],
   "source": [
    "import numpy as np\n",
    "import random\n",
    "\n",
    "def ejex(a, b, c) :\n",
    "    Xi = [1, -1]\n",
    "    dt = np.sqrt(c)\n",
    "    Wi = [a]\n",
    "    for i in range(round(b/ c)) :\n",
    "        Wi.append(Wi[-1] + random.choice(Xi)*dt)\n",
    "    return Wi\n",
    "x = ejex(0, 10, 0.001)"
   ]
  },
  {
   "cell_type": "code",
   "execution_count": 2,
   "id": "7f9be81d",
   "metadata": {},
   "outputs": [],
   "source": [
    "def ejey(a, b, c) :\n",
    "    Xi = [1, -1]\n",
    "    dt = np.sqrt(c)\n",
    "    Wi = [a]\n",
    "    for i in range(round(b/c)) :\n",
    "        Wi.append(Wi[-1] + random.choice(Xi)*dt)\n",
    "    return Wi\n",
    "y = ejey(0, 10, 0.001)"
   ]
  },
  {
   "cell_type": "code",
   "execution_count": 3,
   "id": "c9e2f82b",
   "metadata": {},
   "outputs": [],
   "source": [
    "def ejez(a, b, c) :\n",
    "    Xi = [1, -1]\n",
    "    dt = np.sqrt(c)\n",
    "    Wi = [a]\n",
    "    for i in range(round(b/c)) :\n",
    "        Wi.append(Wi[-1] + random.choice(Xi)*dt)\n",
    "    return Wi\n",
    "z = ejez(0, 10, 0.001)"
   ]
  },
  {
   "cell_type": "code",
   "execution_count": 4,
   "id": "b2625477",
   "metadata": {},
   "outputs": [
    {
     "data": {
      "image/png": "[encoded data removed]",
      "text/plain": [
       "<Figure size 432x288 with 1 Axes>"
      ]
     },
     "metadata": {
      "needs_background": "light"
     },
     "output_type": "display_data"
    }
   ],
   "source": [
    "import matplotlib.pyplot as plt\n",
    "%matplotlib inline\n",
    "grafica3D = plt.figure()\n",
    "\n",
    "ejex = np.array([x])\n",
    "ejey = np.array([y])\n",
    "ejez = np.array([z])\n",
    "\n",
    "ejes= (ejex, ejey, ejez)\n",
    "plt.grid()"
   ]
  },
  {
   "cell_type": "markdown",
   "id": "caf0555d",
   "metadata": {},
   "source": [
    "#### 2. Apuesta arriesgada\n",
    "\n",
    "Un jugador, con 20 pesos de capital inicial, decide apostar a un volado (con una moneda perfectamente nivelada) la mitad de su capital si éste es mayor o igual a 6 pesos, de lo contrario, solo 2. Esto es, el capital $C_i$ en cada volado $V_i$ se describe como\n",
    "$$\n",
    "C_{i+1}=C_i+V_iA_i\n",
    "$$\n",
    "donde la apuesta es \n",
    "$$\n",
    "A_i=\\left\\{\\begin{array}{l}\n",
    "C_i/2,\\quad \\mbox{si }C_i\\geq 6\\\\\n",
    "2,\\quad \\mbox{de lo contrario.}\n",
    "\\end{array}\\right.\n",
    "$$\n",
    "\n",
    "1. Grafique la evolución del capital hasta quedar en cero.\n",
    "2. Determine el número de volados promedio para quedar en quiebra usando la simulación montecarlo para 10,000 apostadores.\n",
    "3. Muestre un histograma del número de volados."
   ]
  },
  {
   "cell_type": "code",
   "execution_count": 6,
   "id": "56619203",
   "metadata": {},
   "outputs": [],
   "source": [
    "import numpy as np\n",
    "import matplotlib.pyplot as plt\n",
    "%matplotlib inline"
   ]
  },
  {
   "cell_type": "code",
   "execution_count": 7,
   "id": "8e7c4636",
   "metadata": {},
   "outputs": [],
   "source": [
    "import random\n",
    "coin = [-1, 1]"
   ]
  },
  {
   "cell_type": "code",
   "execution_count": 8,
   "id": "1aa682c3",
   "metadata": {},
   "outputs": [],
   "source": [
    "def apuesta() :\n",
    "    monto = 20 \n",
    "    r = [monto]\n",
    "    while r[-1]>0 :\n",
    "        probabilidad = random.choice(coin)\n",
    "        c = r[-1]\n",
    "        if c <= 0 :\n",
    "            break\n",
    "            c = c - (c/2)\n",
    "            r.append(c)\n",
    "        elif (probabilidad == 1) and (monto >= 6) :\n",
    "            c = c + (c/2)\n",
    "            r.append(c)\n",
    "        elif (probabilidad == -1) and (c < 6) :\n",
    "            r.append(c - 2)\n",
    "        elif (probabilidad == 1) and (c < 6) :\n",
    "            r.append(c + 2)\n",
    "    return r"
   ]
  },
  {
   "cell_type": "code",
   "execution_count": 4,
   "id": "82b61502",
   "metadata": {},
   "outputs": [
    {
     "ename": "NameError",
     "evalue": "name 'probabilidad' is not defined",
     "output_type": "error",
     "traceback": [
      "\u001b[1;31m---------------------------------------------------------------------------\u001b[0m",
      "\u001b[1;31mNameError\u001b[0m                                 Traceback (most recent call last)",
      "Input \u001b[1;32mIn [4]\u001b[0m, in \u001b[0;36m<cell line: 2>\u001b[1;34m()\u001b[0m\n\u001b[0;32m      1\u001b[0m x\u001b[38;5;241m=\u001b[39mapuesta\n\u001b[1;32m----> 2\u001b[0m y\u001b[38;5;241m=\u001b[39m\u001b[43mprobabilidad\u001b[49m\n\u001b[0;32m      3\u001b[0m plt\u001b[38;5;241m.\u001b[39mfigure()\n\u001b[0;32m      4\u001b[0m plt\u001b[38;5;241m.\u001b[39mplot(x, y)\n",
      "\u001b[1;31mNameError\u001b[0m: name 'probabilidad' is not defined"
     ]
    }
   ],
   "source": [
    "x=apuesta\n",
    "y=probabilidad\n",
    "plt.figure()\n",
    "plt.plot(x, y)\n",
    "plt.grid()"
   ]
  },
  {
   "cell_type": "code",
   "execution_count": 9,
   "id": "19ddd0ae",
   "metadata": {},
   "outputs": [
    {
     "ename": "MemoryError",
     "evalue": "",
     "output_type": "error",
     "traceback": [
      "\u001b[1;31m---------------------------------------------------------------------------\u001b[0m",
      "\u001b[1;31mMemoryError\u001b[0m                               Traceback (most recent call last)",
      "Input \u001b[1;32mIn [9]\u001b[0m, in \u001b[0;36m<cell line: 6>\u001b[1;34m()\u001b[0m\n\u001b[0;32m      4\u001b[0m         F\u001b[38;5;241m.\u001b[39mappend(\u001b[38;5;28mlen\u001b[39m(apuesta())\u001b[38;5;241m-\u001b[39m\u001b[38;5;241m1\u001b[39m)\n\u001b[0;32m      5\u001b[0m     \u001b[38;5;28;01mreturn\u001b[39;00m F\n\u001b[1;32m----> 6\u001b[0m P \u001b[38;5;241m=\u001b[39m \u001b[38;5;28mround\u001b[39m(np\u001b[38;5;241m.\u001b[39mmean(\u001b[43mYO\u001b[49m\u001b[43m(\u001b[49m\u001b[38;5;241;43m10000\u001b[39;49m\u001b[43m)\u001b[49m))\n",
      "Input \u001b[1;32mIn [9]\u001b[0m, in \u001b[0;36mYO\u001b[1;34m(n)\u001b[0m\n\u001b[0;32m      2\u001b[0m F \u001b[38;5;241m=\u001b[39m []\n\u001b[0;32m      3\u001b[0m \u001b[38;5;28;01mfor\u001b[39;00m i \u001b[38;5;129;01min\u001b[39;00m \u001b[38;5;28mrange\u001b[39m(n) :\n\u001b[1;32m----> 4\u001b[0m     F\u001b[38;5;241m.\u001b[39mappend(\u001b[38;5;28mlen\u001b[39m(\u001b[43mapuesta\u001b[49m\u001b[43m(\u001b[49m\u001b[43m)\u001b[49m)\u001b[38;5;241m-\u001b[39m\u001b[38;5;241m1\u001b[39m)\n\u001b[0;32m      5\u001b[0m \u001b[38;5;28;01mreturn\u001b[39;00m F\n",
      "Input \u001b[1;32mIn [8]\u001b[0m, in \u001b[0;36mapuesta\u001b[1;34m()\u001b[0m\n\u001b[0;32m     11\u001b[0m \u001b[38;5;28;01melif\u001b[39;00m (probabilidad \u001b[38;5;241m==\u001b[39m \u001b[38;5;241m1\u001b[39m) \u001b[38;5;129;01mand\u001b[39;00m (monto \u001b[38;5;241m>\u001b[39m\u001b[38;5;241m=\u001b[39m \u001b[38;5;241m6\u001b[39m) :\n\u001b[0;32m     12\u001b[0m     c \u001b[38;5;241m=\u001b[39m c \u001b[38;5;241m+\u001b[39m (c\u001b[38;5;241m/\u001b[39m\u001b[38;5;241m2\u001b[39m)\n\u001b[1;32m---> 13\u001b[0m     \u001b[43mr\u001b[49m\u001b[38;5;241;43m.\u001b[39;49m\u001b[43mappend\u001b[49m\u001b[43m(\u001b[49m\u001b[43mc\u001b[49m\u001b[43m)\u001b[49m\n\u001b[0;32m     14\u001b[0m \u001b[38;5;28;01melif\u001b[39;00m (probabilidad \u001b[38;5;241m==\u001b[39m \u001b[38;5;241m-\u001b[39m\u001b[38;5;241m1\u001b[39m) \u001b[38;5;129;01mand\u001b[39;00m (c \u001b[38;5;241m<\u001b[39m \u001b[38;5;241m6\u001b[39m) :\n\u001b[0;32m     15\u001b[0m     r\u001b[38;5;241m.\u001b[39mappend(c \u001b[38;5;241m-\u001b[39m \u001b[38;5;241m2\u001b[39m)\n",
      "\u001b[1;31mMemoryError\u001b[0m: "
     ]
    }
   ],
   "source": [
    "def YO (n) :\n",
    "    F = []\n",
    "    for i in range(n) :\n",
    "        F.append(len(apuesta())-1)\n",
    "    return F\n",
    "P = round(np.mean(YO(10000)))"
   ]
  },
  {
   "cell_type": "code",
   "execution_count": null,
   "id": "c0ebc97d",
   "metadata": {},
   "outputs": [],
   "source": [
    "P"
   ]
  },
  {
   "cell_type": "code",
   "execution_count": null,
   "id": "8ab37b9d",
   "metadata": {},
   "outputs": [],
   "source": [
    "P = np.array(Apostador(10000))\n",
    "\n",
    "plt.figure()\n",
    "plt.hist(P)"
   ]
  },
  {
   "cell_type": "code",
   "execution_count": null,
   "id": "5bda549e",
   "metadata": {},
   "outputs": [],
   "source": []
  }
 ],
 "metadata": {
  "kernelspec": {
   "display_name": "Python 3 (ipykernel)",
   "language": "python",
   "name": "python3"
  },
  "language_info": {
   "codemirror_mode": {
    "name": "ipython",
    "version": 3
   },
   "file_extension": ".py",
   "mimetype": "text/x-python",
   "name": "python",
   "nbconvert_exporter": "python",
   "pygments_lexer": "ipython3",
   "version": "3.9.12"
  }
 },
 "nbformat": 4,
 "nbformat_minor": 5
}
