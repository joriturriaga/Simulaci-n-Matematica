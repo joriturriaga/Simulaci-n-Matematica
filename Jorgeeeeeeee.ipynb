{
 "cells": [
  {
   "cell_type": "markdown",
   "id": "502a962b",
   "metadata": {},
   "source": [
    "# Jorge Emiliano Iturriaga Almanza"
   ]
  },
  {
   "cell_type": "markdown",
   "id": "f6347707",
   "metadata": {},
   "source": [
    "## Presentación"
   ]
  },
  {
   "cell_type": "markdown",
   "id": "0b8791f3",
   "metadata": {},
   "source": [
    "Mi nombre es **Jorge Emiliano Iturriaga Almanza.** Estoy cursando la carrera de ingeniería financiera, tengo 20 años y les voy a presentar un tema.\n",
    "\n",
    "HOBBIES\n",
    "<ol>\n",
    "  <li>Futbol</li>  \n",
    "  <li>Correr</li> \n",
    "  <li>Nadar</li> \n",
    "</ol>   "
   ]
  },
  {
   "cell_type": "markdown",
   "id": "2091ef0c",
   "metadata": {},
   "source": [
    "## ¿Qué es un bono?"
   ]
  },
  {
   "cell_type": "markdown",
   "id": "66e41132",
   "metadata": {},
   "source": [
    "Los bonos son *instrumentos financieros de deuda*, es decir, un certificado con el que el deudor se compromete a pagar una suma en su fecha de vencimiento, más un porcentaje de intereses sobre su valor nominal. Pueden ser emitidos por entidades privadas o públicas.\n",
    "\n",
    "Existen tres tipos de bonos:\n",
    "\n",
    "- Bono cupón cero: establece una cantidad fija a pagarse a futuro.\n",
    "- Bono cuponado: se paga a los inversionistas su valor nominal.\n",
    "- Bono bajo par: define que dicho valor del bono cotiza por debajo de su valor de emisión.\n",
    "\n",
    "![Imagen](https://th.bing.com/th/id/OIP.mWWd_s6dt9hIRc88d-S2eQHaE8?pid=ImgDet&rs=1)\n",
    "\n"
   ]
  },
  {
   "cell_type": "code",
   "execution_count": 1,
   "id": "b3ac6716",
   "metadata": {},
   "outputs": [
    {
     "data": {
      "text/plain": [
       "16"
      ]
     },
     "execution_count": 1,
     "metadata": {},
     "output_type": "execute_result"
    }
   ],
   "source": [
    "4*4"
   ]
  },
  {
   "cell_type": "markdown",
   "id": "d8609920",
   "metadata": {},
   "source": [
    "$x=16$"
   ]
  }
 ],
 "metadata": {
  "kernelspec": {
   "display_name": "Python 3 (ipykernel)",
   "language": "python",
   "name": "python3"
  },
  "language_info": {
   "codemirror_mode": {
    "name": "ipython",
    "version": 3
   },
   "file_extension": ".py",
   "mimetype": "text/x-python",
   "name": "python",
   "nbconvert_exporter": "python",
   "pygments_lexer": "ipython3",
   "version": "3.9.12"
  }
 },
 "nbformat": 4,
 "nbformat_minor": 5
}
